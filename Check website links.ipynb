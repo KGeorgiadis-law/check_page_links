{
 "cells": [
  {
   "cell_type": "code",
   "execution_count": 6,
   "metadata": {
    "collapsed": false
   },
   "outputs": [],
   "source": [
    "from bs4 import BeautifulSoup\n",
    "import requests\n",
    "from urllib.request import urlopen"
   ]
  },
  {
   "cell_type": "code",
   "execution_count": 29,
   "metadata": {
    "collapsed": true
   },
   "outputs": [],
   "source": [
    "url = \"http://www.legalissuesjournal.com/submissions/\"\n",
    "response = requests.get(url)"
   ]
  },
  {
   "cell_type": "code",
   "execution_count": 30,
   "metadata": {
    "collapsed": false
   },
   "outputs": [
    {
     "name": "stdout",
     "output_type": "stream",
     "text": [
      "<Response [200]>\n"
     ]
    }
   ],
   "source": [
    "print(response)"
   ]
  },
  {
   "cell_type": "code",
   "execution_count": 31,
   "metadata": {
    "collapsed": true
   },
   "outputs": [],
   "source": [
    "html = urlopen(url)\n",
    "soup = BeautifulSoup(html, \"html.parser\")"
   ]
  },
  {
   "cell_type": "code",
   "execution_count": 33,
   "metadata": {
    "collapsed": false
   },
   "outputs": [
    {
     "name": "stdout",
     "output_type": "stream",
     "text": [
      "http://www.legalissuesjournal.com/ <Response [200]>\n",
      "http://www.legalissuesjournal.com/ <Response [200]>\n",
      "http://www.legalissuesjournal.com/issues-archive/ <Response [200]>\n",
      "http://www.legalissuesjournal.com/submissions/ <Response [200]>\n",
      "http://www.legalissuesjournal.com/editorial-board/ <Response [200]>\n",
      "http://www.legalissuesjournal.com/about/ <Response [200]>\n",
      "http://www.legalissuesjournal.com/323-2/ <Response [200]>\n",
      "http://www.legalissuesjournal.com/open-access-now-available-to-published-authors/ <Response [200]>\n",
      "http://www.legalissuesjournal.com/submissions/style-guide/ <Response [200]>\n",
      "http://www.legalissuesjournal.com/wp-content/uploads/2016/10/oscola_4th_edn_hart_2012.pdf <Response [200]>\n"
     ]
    }
   ],
   "source": [
    "links = soup.find_all(\"a\")\n",
    "for a in links:\n",
    "    if a['href'].startswith(\"http\"): #ensure that only proper links are evaluated\n",
    "        \n",
    "        headers = {'user-agent': 'Mozilla/5.0 (Windows; U; Windows NT 5.1; de; rv:1.9.2.3) Gecko/20100401 Firefox/3.6.3', \n",
    "                   'accept-encoding':'gzip, deflate, sdch, br',\n",
    "                  'accept':'text/html,application/xhtml+xml,application/xml;q=0.9,image/webp,*/*;q=0.8'}\n",
    "        reply = requests.get(a['href'], headers=headers)\n",
    "        print(\"{} {}\".format(a['href'], reply))\n",
    "        \n",
    "    else:\n",
    "        \n",
    "        continue\n"
   ]
  }
 ],
 "metadata": {
  "anaconda-cloud": {},
  "kernelspec": {
   "display_name": "Python [default]",
   "language": "python",
   "name": "python3"
  },
  "language_info": {
   "codemirror_mode": {
    "name": "ipython",
    "version": 3
   },
   "file_extension": ".py",
   "mimetype": "text/x-python",
   "name": "python",
   "nbconvert_exporter": "python",
   "pygments_lexer": "ipython3",
   "version": "3.5.2"
  }
 },
 "nbformat": 4,
 "nbformat_minor": 1
}
