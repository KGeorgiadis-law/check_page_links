{
 "cells": [
  {
   "cell_type": "code",
   "execution_count": 6,
   "metadata": {
    "collapsed": false
   },
   "outputs": [],
   "source": [
    "from bs4 import BeautifulSoup\n",
    "import requests\n",
    "from urllib.request import urlopen"
   ]
  },
  {
   "cell_type": "code",
   "execution_count": 13,
   "metadata": {
    "collapsed": true
   },
   "outputs": [],
   "source": [
    "url = \"http://www.legalissuesjournal.com/editorial-board/\"\n",
    "response = requests.get(url)"
   ]
  },
  {
   "cell_type": "code",
   "execution_count": 15,
   "metadata": {
    "collapsed": true
   },
   "outputs": [],
   "source": [
    "html = urlopen(url)\n",
    "soup = BeautifulSoup(html, \"html.parser\")"
   ]
  },
  {
   "cell_type": "code",
   "execution_count": 24,
   "metadata": {
    "collapsed": false
   },
   "outputs": [
    {
     "name": "stdout",
     "output_type": "stream",
     "text": [
      "http://www.legalissuesjournal.com/ <Response [200]>\n",
      "http://www.legalissuesjournal.com/ <Response [200]>\n",
      "http://www.legalissuesjournal.com/issues-archive/ <Response [200]>\n",
      "http://www.legalissuesjournal.com/submissions/ <Response [200]>\n",
      "http://www.legalissuesjournal.com/editorial-board/ <Response [200]>\n",
      "http://www.legalissuesjournal.com/about/ <Response [200]>\n",
      "http://www.legalissuesjournal.com/323-2/ <Response [200]>\n",
      "https://twitter.com/CostasGeorgiade <Response [404]>\n",
      "https://www.linkedin.com/in/konstantinos-georgiadis-law <Response [999]>\n",
      "https://twitter.com/murphyevidence <Response [200]>\n",
      "https://uk.linkedin.com/in/leanne-gray-7ba375109 <Response [999]>\n",
      "http://www.linkedin.com/in/sanjeebhossain <Response [999]>\n",
      "http://www.linkedin.com/in/mohammed-subhan-Hussain <Response [999]>\n",
      "https://uk.linkedin.com/in/dr-tony-meacham-95159b1a <Response [999]>\n",
      "https://twitter.com/NPapadopoulou_ <Response [200]>\n",
      "https://uk.linkedin.com/in/natalypapadopoulou <Response [999]>\n"
     ]
    }
   ],
   "source": [
    "links = soup.find_all(\"a\")\n",
    "for a in links:\n",
    "    headers = {'user-agent': 'Mozilla/5.0 (Windows; U; Windows NT 5.1; de; rv:1.9.2.3) Gecko/20100401 Firefox/3.6.3', \n",
    "               'accept-encoding':'gzip, deflate, sdch, br',\n",
    "              'accept':'text/html,application/xhtml+xml,application/xml;q=0.9,image/webp,*/*;q=0.8'}\n",
    "    reply = requests.get(a['href'], headers=headers)\n",
    "    print(\"{} {}\".format(a['href'], reply))\n"
   ]
  }
 ],
 "metadata": {
  "anaconda-cloud": {},
  "kernelspec": {
   "display_name": "Python [default]",
   "language": "python",
   "name": "python3"
  },
  "language_info": {
   "codemirror_mode": {
    "name": "ipython",
    "version": 3
   },
   "file_extension": ".py",
   "mimetype": "text/x-python",
   "name": "python",
   "nbconvert_exporter": "python",
   "pygments_lexer": "ipython3",
   "version": "3.5.2"
  }
 },
 "nbformat": 4,
 "nbformat_minor": 1
}
